{
 "cells": [
  {
   "cell_type": "code",
   "execution_count": 16,
   "metadata": {},
   "outputs": [],
   "source": [
    "# !pip install spotipy --upgrade\n",
    "# !pip install pulp\n",
    "import spotipy\n",
    "from spotipy.oauth2 import SpotifyOAuth,SpotifyClientCredentials\n",
    "import pandas as pd\n",
    "from IPython.display import clear_output\n",
    "from pulp import *\n",
    "import os\n",
    "from secrets import secrets"
   ]
  },
  {
   "cell_type": "code",
   "execution_count": 17,
   "metadata": {},
   "outputs": [],
   "source": [
    "# Creating Spotify Connection\n",
    "\n",
    "## If you want to reproduce this step subscribe to \n",
    "## https://developer.spotify.com/dashboard/login, create your app, \n",
    "## get your credentials, and then set it as environment variables\n",
    "cid = secrets['SPOTIPY_CLIEND_ID']\n",
    "secret = secrets['SPOTIPY_CLIENT_SECRET']\n",
    "\n",
    "client_credentials_manager = SpotifyClientCredentials(client_id=cid,client_secret=secret)\n",
    "sp = spotipy.Spotify(client_credentials_manager = client_credentials_manager)"
   ]
  },
  {
   "cell_type": "code",
   "execution_count": 18,
   "metadata": {},
   "outputs": [],
   "source": [
    "# Functon to iterate over paginated results\n",
    "def get_playlist_tracks(playlist_id):\n",
    "    results = sp.playlist(playlist_id)['tracks']\n",
    "    tracks = results['items']\n",
    "    while results['next']:\n",
    "        results = sp.next(results)\n",
    "        tracks.extend(results['items'])\n",
    "    return tracks"
   ]
  },
  {
   "cell_type": "code",
   "execution_count": 23,
   "metadata": {},
   "outputs": [
    {
     "name": "stdout",
     "output_type": "stream",
     "text": [
      "ok\n"
     ]
    }
   ],
   "source": [
    "tracks = get_playlist_tracks(playlist_id='5TUxgTIxzLbLVh7RUf9V8i')\n",
    "print(\"ok\")"
   ]
  },
  {
   "cell_type": "code",
   "execution_count": 28,
   "metadata": {},
   "outputs": [
    {
     "data": {
      "text/plain": [
       "{'danceability': 0.454,\n",
       " 'energy': 0.91,\n",
       " 'key': 6,\n",
       " 'loudness': -7.766,\n",
       " 'mode': 1,\n",
       " 'speechiness': 0.0448,\n",
       " 'acousticness': 0.0866,\n",
       " 'instrumentalness': 0.0996,\n",
       " 'liveness': 0.116,\n",
       " 'valence': 0.629,\n",
       " 'tempo': 125.116,\n",
       " 'type': 'audio_features',\n",
       " 'id': '7o2CTH4ctstm8TNelqjb51',\n",
       " 'uri': 'spotify:track:7o2CTH4ctstm8TNelqjb51',\n",
       " 'track_href': 'https://api.spotify.com/v1/tracks/7o2CTH4ctstm8TNelqjb51',\n",
       " 'analysis_url': 'https://api.spotify.com/v1/audio-analysis/7o2CTH4ctstm8TNelqjb51',\n",
       " 'duration_ms': 354520,\n",
       " 'time_signature': 4}"
      ]
     },
     "execution_count": 28,
     "metadata": {},
     "output_type": "execute_result"
    }
   ],
   "source": [
    "tr = tracks[0]\n",
    "sp.audio_features(tr['track']['uri'])[0]"
   ]
  },
  {
   "cell_type": "code",
   "execution_count": 29,
   "metadata": {},
   "outputs": [
    {
     "name": "stdout",
     "output_type": "stream",
     "text": [
      "100.0% Done!\n"
     ]
    }
   ],
   "source": [
    "uris = []\n",
    "track_names = []\n",
    "artists_name = []\n",
    "track_pop = []\n",
    "artists_pop = []\n",
    "duration = []\n",
    "danceability = []\n",
    "energy = []\n",
    "acousticness = []\n",
    "instrumentalness = []\n",
    "liveness = []\n",
    "valence = []\n",
    "links = []\n",
    "for i,track in enumerate(tracks):\n",
    "    clear_output(wait=True)\n",
    "    print(f\"{round(100*(i+1)/1109,2)}% Done!\")\n",
    "    #URI\n",
    "    uris.append(track[\"track\"][\"uri\"])\n",
    "    \n",
    "    #Track name\n",
    "    track_names.append(track[\"track\"][\"name\"])\n",
    "    \n",
    "    #Artist Name\n",
    "    artists_name.append(track[\"track\"][\"artists\"][0][\"name\"])\n",
    "    \n",
    "    #Popularity of the track\n",
    "    track_pop.append(track[\"track\"][\"popularity\"])\n",
    "\n",
    "    #Artist Popularity:\n",
    "    artist_uri = track[\"track\"][\"artists\"][0][\"uri\"]\n",
    "    artist_info = sp.artist(artist_uri)\n",
    "    artists_pop.append(artist_info[\"popularity\"])\n",
    "\n",
    "    #Track Duration (minutes)\n",
    "    duration.append(track['track']['duration_ms']/60000)\n",
    "\n",
    "    #Audio Features:\n",
    "    features = sp.audio_features(track['track']['uri'])[0]\n",
    "    danceability.append(features['danceability'])\n",
    "    energy.append(features['energy'])\n",
    "    acousticness.append(features['acousticness'])\n",
    "    instrumentalness.append(features['instrumentalness'])\n",
    "    liveness.append(features['liveness'])\n",
    "    valence.append(features['valence'])\n",
    "\n",
    "    #Creating links\n",
    "    links.append(\"open.spotify.com/track/\" + uris[i].split(\":\")[2])"
   ]
  },
  {
   "cell_type": "code",
   "execution_count": 30,
   "metadata": {},
   "outputs": [
    {
     "data": {
      "text/html": [
       "<div>\n",
       "<style scoped>\n",
       "    .dataframe tbody tr th:only-of-type {\n",
       "        vertical-align: middle;\n",
       "    }\n",
       "\n",
       "    .dataframe tbody tr th {\n",
       "        vertical-align: top;\n",
       "    }\n",
       "\n",
       "    .dataframe thead th {\n",
       "        text-align: right;\n",
       "    }\n",
       "</style>\n",
       "<table border=\"1\" class=\"dataframe\">\n",
       "  <thead>\n",
       "    <tr style=\"text-align: right;\">\n",
       "      <th></th>\n",
       "      <th>track_name</th>\n",
       "      <th>artist</th>\n",
       "      <th>track_pop</th>\n",
       "      <th>artist_pop</th>\n",
       "      <th>duration</th>\n",
       "      <th>danceability</th>\n",
       "      <th>energy</th>\n",
       "      <th>acousticness</th>\n",
       "      <th>instrumentalness</th>\n",
       "      <th>liveness</th>\n",
       "      <th>valence</th>\n",
       "      <th>link</th>\n",
       "    </tr>\n",
       "  </thead>\n",
       "  <tbody>\n",
       "    <tr>\n",
       "      <th>0</th>\n",
       "      <td>Sweet Child O' Mine</td>\n",
       "      <td>Guns N' Roses</td>\n",
       "      <td>84</td>\n",
       "      <td>82</td>\n",
       "      <td>5.908667</td>\n",
       "      <td>0.454</td>\n",
       "      <td>0.910</td>\n",
       "      <td>0.0866</td>\n",
       "      <td>0.09960</td>\n",
       "      <td>0.1160</td>\n",
       "      <td>0.629</td>\n",
       "      <td>open.spotify.com/track/7o2CTH4ctstm8TNelqjb51</td>\n",
       "    </tr>\n",
       "    <tr>\n",
       "      <th>1</th>\n",
       "      <td>Welcome To The Jungle</td>\n",
       "      <td>Guns N' Roses</td>\n",
       "      <td>80</td>\n",
       "      <td>82</td>\n",
       "      <td>4.533767</td>\n",
       "      <td>0.447</td>\n",
       "      <td>0.954</td>\n",
       "      <td>0.0235</td>\n",
       "      <td>0.40300</td>\n",
       "      <td>0.2980</td>\n",
       "      <td>0.331</td>\n",
       "      <td>open.spotify.com/track/0bVtevEgtDIeRjCJbK3Lmv</td>\n",
       "    </tr>\n",
       "    <tr>\n",
       "      <th>2</th>\n",
       "      <td>Paradise City</td>\n",
       "      <td>Guns N' Roses</td>\n",
       "      <td>81</td>\n",
       "      <td>82</td>\n",
       "      <td>6.760667</td>\n",
       "      <td>0.273</td>\n",
       "      <td>0.952</td>\n",
       "      <td>0.0169</td>\n",
       "      <td>0.01110</td>\n",
       "      <td>0.1420</td>\n",
       "      <td>0.472</td>\n",
       "      <td>open.spotify.com/track/3YBZIN3rekqsKxbJc9FZko</td>\n",
       "    </tr>\n",
       "    <tr>\n",
       "      <th>3</th>\n",
       "      <td>November Rain</td>\n",
       "      <td>Guns N' Roses</td>\n",
       "      <td>0</td>\n",
       "      <td>82</td>\n",
       "      <td>8.958433</td>\n",
       "      <td>0.197</td>\n",
       "      <td>0.629</td>\n",
       "      <td>0.0165</td>\n",
       "      <td>0.27900</td>\n",
       "      <td>0.1250</td>\n",
       "      <td>0.221</td>\n",
       "      <td>open.spotify.com/track/53968oKecrFxkErocab2Al</td>\n",
       "    </tr>\n",
       "    <tr>\n",
       "      <th>4</th>\n",
       "      <td>Knockin' On Heaven's Door</td>\n",
       "      <td>Guns N' Roses</td>\n",
       "      <td>0</td>\n",
       "      <td>82</td>\n",
       "      <td>5.600000</td>\n",
       "      <td>0.486</td>\n",
       "      <td>0.747</td>\n",
       "      <td>0.0203</td>\n",
       "      <td>0.00607</td>\n",
       "      <td>0.0992</td>\n",
       "      <td>0.368</td>\n",
       "      <td>open.spotify.com/track/7gXdAqJLCa5aYUeLVxosOz</td>\n",
       "    </tr>\n",
       "  </tbody>\n",
       "</table>\n",
       "</div>"
      ],
      "text/plain": [
       "                  track_name         artist  track_pop  artist_pop  duration  \\\n",
       "0        Sweet Child O' Mine  Guns N' Roses         84          82  5.908667   \n",
       "1      Welcome To The Jungle  Guns N' Roses         80          82  4.533767   \n",
       "2              Paradise City  Guns N' Roses         81          82  6.760667   \n",
       "3              November Rain  Guns N' Roses          0          82  8.958433   \n",
       "4  Knockin' On Heaven's Door  Guns N' Roses          0          82  5.600000   \n",
       "\n",
       "   danceability  energy  acousticness  instrumentalness  liveness  valence  \\\n",
       "0         0.454   0.910        0.0866           0.09960    0.1160    0.629   \n",
       "1         0.447   0.954        0.0235           0.40300    0.2980    0.331   \n",
       "2         0.273   0.952        0.0169           0.01110    0.1420    0.472   \n",
       "3         0.197   0.629        0.0165           0.27900    0.1250    0.221   \n",
       "4         0.486   0.747        0.0203           0.00607    0.0992    0.368   \n",
       "\n",
       "                                            link  \n",
       "0  open.spotify.com/track/7o2CTH4ctstm8TNelqjb51  \n",
       "1  open.spotify.com/track/0bVtevEgtDIeRjCJbK3Lmv  \n",
       "2  open.spotify.com/track/3YBZIN3rekqsKxbJc9FZko  \n",
       "3  open.spotify.com/track/53968oKecrFxkErocab2Al  \n",
       "4  open.spotify.com/track/7gXdAqJLCa5aYUeLVxosOz  "
      ]
     },
     "execution_count": 30,
     "metadata": {},
     "output_type": "execute_result"
    }
   ],
   "source": [
    "\n",
    "df = pd.DataFrame(zip(track_names,artists_name,track_pop,\n",
    "                      artists_pop,duration,danceability,\n",
    "                      energy,acousticness,instrumentalness,\n",
    "                      liveness,valence,links),\n",
    "                  columns = [\"track_name\",\"artist\",\"track_pop\",\n",
    "                            \"artist_pop\",'duration','danceability',\n",
    "                            'energy','acousticness','instrumentalness',\n",
    "                            'liveness','valence','link'])\n",
    "df.head()"
   ]
  },
  {
   "cell_type": "code",
   "execution_count": 32,
   "metadata": {},
   "outputs": [],
   "source": [
    "# Saving dataframe to File\n",
    "df.to_csv(\"../data/for_those_about_to_rock.csv\",index=False)"
   ]
  }
 ],
 "metadata": {
  "interpreter": {
   "hash": "b3ba2566441a7c06988d0923437866b63cedc61552a5af99d1f4fb67d367b25f"
  },
  "kernelspec": {
   "display_name": "Python 3.8.5 64-bit ('base': conda)",
   "name": "python3"
  },
  "language_info": {
   "codemirror_mode": {
    "name": "ipython",
    "version": 3
   },
   "file_extension": ".py",
   "mimetype": "text/x-python",
   "name": "python",
   "nbconvert_exporter": "python",
   "pygments_lexer": "ipython3",
   "version": "3.8.5"
  },
  "orig_nbformat": 4
 },
 "nbformat": 4,
 "nbformat_minor": 2
}
