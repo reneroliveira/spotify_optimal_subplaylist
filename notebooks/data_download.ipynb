{
 "cells": [
  {
   "cell_type": "code",
   "execution_count": 1,
   "metadata": {},
   "outputs": [],
   "source": [
    "# !pip install spotipy --upgrade\n",
    "# !pip install pulp\n",
    "import spotipy\n",
    "from spotipy.oauth2 import SpotifyOAuth,SpotifyClientCredentials\n",
    "import pandas as pd\n",
    "from IPython.display import clear_output\n",
    "from pulp import *\n",
    "import os\n",
    "# os.chdir(\"C:\\\\Users\\\\User\\\\OneDrive - Fundacao Getulio Vargas - FGV\\\\7o Período\\\\PLI\\\\spotify_optimal_subplaylist\")\n",
    "from secrets import secrets"
   ]
  },
  {
   "cell_type": "code",
   "execution_count": 7,
   "metadata": {},
   "outputs": [],
   "source": [
    "# Creating Spotify Connection\n",
    "\n",
    "## If you want to reproduce this step subscribe to \n",
    "## https://developer.spotify.com/dashboard/login, create your app, \n",
    "## get your credentials, and then set it as environment variables\n",
    "cid = secrets['SPOTIPY_CLIEND_ID']\n",
    "secret = secrets['SPOTIPY_CLIENT_SECRET']\n",
    "\n",
    "client_credentials_manager = SpotifyClientCredentials(client_id=cid,client_secret=secret)\n",
    "sp = spotipy.Spotify(client_credentials_manager = client_credentials_manager)"
   ]
  },
  {
   "cell_type": "code",
   "execution_count": 8,
   "metadata": {},
   "outputs": [],
   "source": [
    "# Functon to iterate over paginated results\n",
    "def get_playlist_tracks(playlist_id):\n",
    "    results = sp.playlist(playlist_id)['tracks']\n",
    "    tracks = results['items']\n",
    "    while results['next']:\n",
    "        results = sp.next(results)\n",
    "        tracks.extend(results['items'])\n",
    "    return tracks"
   ]
  },
  {
   "cell_type": "code",
   "execution_count": 9,
   "metadata": {},
   "outputs": [
    {
     "name": "stdout",
     "output_type": "stream",
     "text": [
      "ok\n"
     ]
    }
   ],
   "source": [
    "tracks = get_playlist_tracks(playlist_id='5TUxgTIxzLbLVh7RUf9V8i')\n",
    "print(\"ok\")"
   ]
  },
  {
   "cell_type": "code",
   "execution_count": 14,
   "metadata": {},
   "outputs": [
    {
     "data": {
      "text/plain": [
       "[{'danceability': 0.454,\n",
       "  'energy': 0.91,\n",
       "  'key': 6,\n",
       "  'loudness': -7.766,\n",
       "  'mode': 1,\n",
       "  'speechiness': 0.0448,\n",
       "  'acousticness': 0.0866,\n",
       "  'instrumentalness': 0.0996,\n",
       "  'liveness': 0.116,\n",
       "  'valence': 0.629,\n",
       "  'tempo': 125.116,\n",
       "  'type': 'audio_features',\n",
       "  'id': '7o2CTH4ctstm8TNelqjb51',\n",
       "  'uri': 'spotify:track:7o2CTH4ctstm8TNelqjb51',\n",
       "  'track_href': 'https://api.spotify.com/v1/tracks/7o2CTH4ctstm8TNelqjb51',\n",
       "  'analysis_url': 'https://api.spotify.com/v1/audio-analysis/7o2CTH4ctstm8TNelqjb51',\n",
       "  'duration_ms': 354520,\n",
       "  'time_signature': 4}]"
      ]
     },
     "execution_count": 14,
     "metadata": {},
     "output_type": "execute_result"
    }
   ],
   "source": [
    "tr = tracks[0]\n",
    "sp.audio_features(tr['track']['uri'])"
   ]
  },
  {
   "cell_type": "code",
   "execution_count": null,
   "metadata": {},
   "outputs": [],
   "source": []
  }
 ],
 "metadata": {
  "interpreter": {
   "hash": "b3ba2566441a7c06988d0923437866b63cedc61552a5af99d1f4fb67d367b25f"
  },
  "kernelspec": {
   "display_name": "Python 3.8.5 64-bit ('base': conda)",
   "name": "python3"
  },
  "language_info": {
   "codemirror_mode": {
    "name": "ipython",
    "version": 3
   },
   "file_extension": ".py",
   "mimetype": "text/x-python",
   "name": "python",
   "nbconvert_exporter": "python",
   "pygments_lexer": "ipython3",
   "version": "3.8.5"
  },
  "orig_nbformat": 4
 },
 "nbformat": 4,
 "nbformat_minor": 2
}
